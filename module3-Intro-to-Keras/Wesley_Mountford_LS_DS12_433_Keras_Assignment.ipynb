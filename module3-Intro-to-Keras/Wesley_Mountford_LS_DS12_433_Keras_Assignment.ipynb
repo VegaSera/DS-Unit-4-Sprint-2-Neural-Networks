{
  "nbformat": 4,
  "nbformat_minor": 0,
  "metadata": {
    "colab": {
      "name": "Copy of LS_DS_433_Keras_Assignment.ipynb",
      "provenance": [],
      "include_colab_link": true
    },
    "kernelspec": {
      "name": "python3",
      "display_name": "Python 3"
    },
    "language_info": {
      "codemirror_mode": {
        "name": "ipython",
        "version": 3
      },
      "file_extension": ".py",
      "mimetype": "text/x-python",
      "name": "python",
      "nbconvert_exporter": "python",
      "pygments_lexer": "ipython3",
      "version": "3.7.3"
    },
    "accelerator": "GPU"
  },
  "cells": [
    {
      "cell_type": "markdown",
      "metadata": {
        "id": "view-in-github",
        "colab_type": "text"
      },
      "source": [
        "<a href=\"https://colab.research.google.com/github/VegaSera/DS-Unit-4-Sprint-2-Neural-Networks/blob/master/module3-Intro-to-Keras/Wesley_Mountford_LS_DS12_433_Keras_Assignment.ipynb\" target=\"_parent\"><img src=\"https://colab.research.google.com/assets/colab-badge.svg\" alt=\"Open In Colab\"/></a>"
      ]
    },
    {
      "cell_type": "markdown",
      "metadata": {
        "colab_type": "text",
        "id": "pBQsZEJmubLs"
      },
      "source": [
        "<img align=\"left\" src=\"https://lever-client-logos.s3.amazonaws.com/864372b1-534c-480e-acd5-9711f850815c-1524247202159.png\" width=200>\n",
        "<br></br>\n",
        "\n",
        "# Neural Network Framework (Keras)\n",
        "\n",
        "## *Data Science Unit 4 Sprint 2 Assignment 3*\n",
        "\n",
        "## Use the Keras Library to build a Multi-Layer Perceptron Model on the Boston Housing dataset\n",
        "\n",
        "- The Boston Housing dataset comes with the Keras library so use Keras to import it into your notebook. \n",
        "- Normalize the data (all features should have roughly the same scale)\n",
        "- Import the type of model and layers that you will need from Keras.\n",
        "- Instantiate a model object and use `model.add()` to add layers to your model\n",
        "- Since this is a regression model you will have a single output node in the final layer.\n",
        "- Use activation functions that are appropriate for this task\n",
        "- Compile your model\n",
        "- Fit your model and report its accuracy in terms of Mean Squared Error\n",
        "- Use the history object that is returned from model.fit to make graphs of the model's loss or train/validation accuracies by epoch. \n",
        "- Run this same data through a linear regression model. Which achieves higher accuracy?\n",
        "- Do a little bit of feature engineering and see how that affects your neural network model. (you will need to change your model to accept more inputs)\n",
        "- After feature engineering, which model sees a greater accuracy boost due to the new features?"
      ]
    },
    {
      "cell_type": "code",
      "metadata": {
        "colab_type": "code",
        "id": "8NLTAR87uYJ-",
        "colab": {
          "base_uri": "https://localhost:8080/",
          "height": 34
        },
        "outputId": "7f9d185c-6ee4-474b-ca32-8528e6421ce8"
      },
      "source": [
        "##### Your Code Here #####\n",
        "\n",
        "from tensorflow.keras.datasets import boston_housing\n",
        "import pandas as pd\n",
        "from sklearn.preprocessing import Normalizer\n",
        "\n",
        "(x_train, y_train), (x_test, y_test) = boston_housing.load_data()\n",
        "normal = Normalizer()\n",
        "x_train = normal.fit_transform(x_train)\n",
        "y_train = normal.fit_transform([y_train]).T\n",
        "x_test = normal.fit_transform(x_test)\n",
        "y_test = normal.fit_transform([y_test]).T\n",
        "x_train.shape, y_train.shape, x_test.shape, y_test.shape"
      ],
      "execution_count": 1,
      "outputs": [
        {
          "output_type": "execute_result",
          "data": {
            "text/plain": [
              "((404, 13), (404, 1), (102, 13), (102, 1))"
            ]
          },
          "metadata": {
            "tags": []
          },
          "execution_count": 1
        }
      ]
    },
    {
      "cell_type": "code",
      "metadata": {
        "id": "AKIHEtlVGK97",
        "colab_type": "code",
        "colab": {}
      },
      "source": [
        "%load_ext tensorboard\n",
        "\n",
        "import os\n",
        "import datetime\n",
        "import tensorflow as tf\n",
        "\n",
        "logdir = os.path.join(\"logs\", datetime.datetime.now().strftime(\"%Y%m%d-%H%M%S\"))\n",
        "tensorboard_callback = tf.keras.callbacks.TensorBoard(logdir, histogram_freq=1)"
      ],
      "execution_count": 0,
      "outputs": []
    },
    {
      "cell_type": "code",
      "metadata": {
        "id": "_WQLLn_CGNyx",
        "colab_type": "code",
        "colab": {
          "base_uri": "https://localhost:8080/",
          "height": 1000
        },
        "outputId": "ea8d48e8-eb8e-4439-a5e8-1e3f2a165e8d"
      },
      "source": [
        "from tensorflow.keras.models import Sequential\n",
        "from tensorflow.keras.layers import Flatten, Dense\n",
        "from tensorflow.keras import metrics\n",
        "\n",
        "model = Sequential([\n",
        "    Dense(30, input_dim=13, activation='relu'),\n",
        "    Dense(30, activation='relu'),\n",
        "    Dense(1, activation=\"linear\")\n",
        "])\n",
        "\n",
        "model.compile(loss='mean_squared_error', optimizer='sgd', metrics=[metrics.mae])\n",
        "\n",
        "\n",
        "history = model.fit(x=x_train, \n",
        "        y=y_train, \n",
        "        epochs=50, \n",
        "        validation_data=(x_test, y_test), \n",
        "        callbacks=[tensorboard_callback])\n",
        "\n",
        "history"
      ],
      "execution_count": 3,
      "outputs": [
        {
          "output_type": "stream",
          "text": [
            "Epoch 1/50\n",
            "13/13 [==============================] - 0s 15ms/step - loss: 0.0339 - mean_absolute_error: 0.1804 - val_loss: 0.0325 - val_mean_absolute_error: 0.1693\n",
            "Epoch 2/50\n",
            "13/13 [==============================] - 0s 5ms/step - loss: 0.0095 - mean_absolute_error: 0.0937 - val_loss: 0.0152 - val_mean_absolute_error: 0.1097\n",
            "Epoch 3/50\n",
            "13/13 [==============================] - 0s 5ms/step - loss: 0.0030 - mean_absolute_error: 0.0482 - val_loss: 0.0090 - val_mean_absolute_error: 0.0788\n",
            "Epoch 4/50\n",
            "13/13 [==============================] - 0s 5ms/step - loss: 0.0011 - mean_absolute_error: 0.0267 - val_loss: 0.0065 - val_mean_absolute_error: 0.0639\n",
            "Epoch 5/50\n",
            "13/13 [==============================] - 0s 5ms/step - loss: 6.5475e-04 - mean_absolute_error: 0.0187 - val_loss: 0.0054 - val_mean_absolute_error: 0.0562\n",
            "Epoch 6/50\n",
            "13/13 [==============================] - 0s 5ms/step - loss: 4.9223e-04 - mean_absolute_error: 0.0155 - val_loss: 0.0048 - val_mean_absolute_error: 0.0524\n",
            "Epoch 7/50\n",
            "13/13 [==============================] - 0s 5ms/step - loss: 4.3649e-04 - mean_absolute_error: 0.0148 - val_loss: 0.0046 - val_mean_absolute_error: 0.0505\n",
            "Epoch 8/50\n",
            "13/13 [==============================] - 0s 5ms/step - loss: 4.2812e-04 - mean_absolute_error: 0.0144 - val_loss: 0.0044 - val_mean_absolute_error: 0.0493\n",
            "Epoch 9/50\n",
            "13/13 [==============================] - 0s 5ms/step - loss: 3.9382e-04 - mean_absolute_error: 0.0142 - val_loss: 0.0043 - val_mean_absolute_error: 0.0489\n",
            "Epoch 10/50\n",
            "13/13 [==============================] - 0s 5ms/step - loss: 3.8916e-04 - mean_absolute_error: 0.0139 - val_loss: 0.0043 - val_mean_absolute_error: 0.0483\n",
            "Epoch 11/50\n",
            "13/13 [==============================] - 0s 5ms/step - loss: 3.7693e-04 - mean_absolute_error: 0.0137 - val_loss: 0.0042 - val_mean_absolute_error: 0.0479\n",
            "Epoch 12/50\n",
            "13/13 [==============================] - 0s 5ms/step - loss: 3.5842e-04 - mean_absolute_error: 0.0135 - val_loss: 0.0042 - val_mean_absolute_error: 0.0479\n",
            "Epoch 13/50\n",
            "13/13 [==============================] - 0s 5ms/step - loss: 3.5420e-04 - mean_absolute_error: 0.0133 - val_loss: 0.0042 - val_mean_absolute_error: 0.0479\n",
            "Epoch 14/50\n",
            "13/13 [==============================] - 0s 5ms/step - loss: 3.4655e-04 - mean_absolute_error: 0.0132 - val_loss: 0.0042 - val_mean_absolute_error: 0.0478\n",
            "Epoch 15/50\n",
            "13/13 [==============================] - 0s 5ms/step - loss: 3.5572e-04 - mean_absolute_error: 0.0129 - val_loss: 0.0041 - val_mean_absolute_error: 0.0476\n",
            "Epoch 16/50\n",
            "13/13 [==============================] - 0s 6ms/step - loss: 3.3064e-04 - mean_absolute_error: 0.0128 - val_loss: 0.0041 - val_mean_absolute_error: 0.0476\n",
            "Epoch 17/50\n",
            "13/13 [==============================] - 0s 5ms/step - loss: 3.3191e-04 - mean_absolute_error: 0.0127 - val_loss: 0.0041 - val_mean_absolute_error: 0.0476\n",
            "Epoch 18/50\n",
            "13/13 [==============================] - 0s 5ms/step - loss: 3.2072e-04 - mean_absolute_error: 0.0125 - val_loss: 0.0041 - val_mean_absolute_error: 0.0476\n",
            "Epoch 19/50\n",
            "13/13 [==============================] - 0s 5ms/step - loss: 3.1468e-04 - mean_absolute_error: 0.0125 - val_loss: 0.0042 - val_mean_absolute_error: 0.0478\n",
            "Epoch 20/50\n",
            "13/13 [==============================] - 0s 5ms/step - loss: 3.1140e-04 - mean_absolute_error: 0.0123 - val_loss: 0.0042 - val_mean_absolute_error: 0.0478\n",
            "Epoch 21/50\n",
            "13/13 [==============================] - 0s 5ms/step - loss: 3.0841e-04 - mean_absolute_error: 0.0122 - val_loss: 0.0041 - val_mean_absolute_error: 0.0477\n",
            "Epoch 22/50\n",
            "13/13 [==============================] - 0s 5ms/step - loss: 3.0796e-04 - mean_absolute_error: 0.0120 - val_loss: 0.0041 - val_mean_absolute_error: 0.0475\n",
            "Epoch 23/50\n",
            "13/13 [==============================] - 0s 5ms/step - loss: 3.0576e-04 - mean_absolute_error: 0.0120 - val_loss: 0.0041 - val_mean_absolute_error: 0.0475\n",
            "Epoch 24/50\n",
            "13/13 [==============================] - 0s 5ms/step - loss: 3.0319e-04 - mean_absolute_error: 0.0119 - val_loss: 0.0041 - val_mean_absolute_error: 0.0474\n",
            "Epoch 25/50\n",
            "13/13 [==============================] - 0s 5ms/step - loss: 2.9695e-04 - mean_absolute_error: 0.0119 - val_loss: 0.0041 - val_mean_absolute_error: 0.0473\n",
            "Epoch 26/50\n",
            "13/13 [==============================] - 0s 5ms/step - loss: 2.9307e-04 - mean_absolute_error: 0.0118 - val_loss: 0.0041 - val_mean_absolute_error: 0.0474\n",
            "Epoch 27/50\n",
            "13/13 [==============================] - 0s 5ms/step - loss: 2.8988e-04 - mean_absolute_error: 0.0117 - val_loss: 0.0041 - val_mean_absolute_error: 0.0475\n",
            "Epoch 28/50\n",
            "13/13 [==============================] - 0s 5ms/step - loss: 2.9142e-04 - mean_absolute_error: 0.0116 - val_loss: 0.0041 - val_mean_absolute_error: 0.0473\n",
            "Epoch 29/50\n",
            "13/13 [==============================] - 0s 5ms/step - loss: 2.8586e-04 - mean_absolute_error: 0.0116 - val_loss: 0.0041 - val_mean_absolute_error: 0.0474\n",
            "Epoch 30/50\n",
            "13/13 [==============================] - 0s 6ms/step - loss: 2.8980e-04 - mean_absolute_error: 0.0116 - val_loss: 0.0041 - val_mean_absolute_error: 0.0474\n",
            "Epoch 31/50\n",
            "13/13 [==============================] - 0s 5ms/step - loss: 2.8600e-04 - mean_absolute_error: 0.0115 - val_loss: 0.0041 - val_mean_absolute_error: 0.0474\n",
            "Epoch 32/50\n",
            "13/13 [==============================] - 0s 5ms/step - loss: 2.8042e-04 - mean_absolute_error: 0.0115 - val_loss: 0.0041 - val_mean_absolute_error: 0.0473\n",
            "Epoch 33/50\n",
            "13/13 [==============================] - 0s 5ms/step - loss: 2.8004e-04 - mean_absolute_error: 0.0114 - val_loss: 0.0041 - val_mean_absolute_error: 0.0472\n",
            "Epoch 34/50\n",
            "13/13 [==============================] - 0s 6ms/step - loss: 2.7699e-04 - mean_absolute_error: 0.0115 - val_loss: 0.0041 - val_mean_absolute_error: 0.0474\n",
            "Epoch 35/50\n",
            "13/13 [==============================] - 0s 7ms/step - loss: 2.7990e-04 - mean_absolute_error: 0.0114 - val_loss: 0.0041 - val_mean_absolute_error: 0.0475\n",
            "Epoch 36/50\n",
            "13/13 [==============================] - 0s 5ms/step - loss: 2.8009e-04 - mean_absolute_error: 0.0112 - val_loss: 0.0041 - val_mean_absolute_error: 0.0473\n",
            "Epoch 37/50\n",
            "13/13 [==============================] - 0s 5ms/step - loss: 2.8029e-04 - mean_absolute_error: 0.0113 - val_loss: 0.0041 - val_mean_absolute_error: 0.0472\n",
            "Epoch 38/50\n",
            "13/13 [==============================] - 0s 5ms/step - loss: 2.8131e-04 - mean_absolute_error: 0.0113 - val_loss: 0.0041 - val_mean_absolute_error: 0.0472\n",
            "Epoch 39/50\n",
            "13/13 [==============================] - 0s 5ms/step - loss: 2.7154e-04 - mean_absolute_error: 0.0112 - val_loss: 0.0041 - val_mean_absolute_error: 0.0472\n",
            "Epoch 40/50\n",
            "13/13 [==============================] - 0s 6ms/step - loss: 2.7162e-04 - mean_absolute_error: 0.0112 - val_loss: 0.0041 - val_mean_absolute_error: 0.0473\n",
            "Epoch 41/50\n",
            "13/13 [==============================] - 0s 5ms/step - loss: 2.7085e-04 - mean_absolute_error: 0.0112 - val_loss: 0.0041 - val_mean_absolute_error: 0.0474\n",
            "Epoch 42/50\n",
            "13/13 [==============================] - 0s 6ms/step - loss: 2.7165e-04 - mean_absolute_error: 0.0112 - val_loss: 0.0041 - val_mean_absolute_error: 0.0474\n",
            "Epoch 43/50\n",
            "13/13 [==============================] - 0s 6ms/step - loss: 2.7640e-04 - mean_absolute_error: 0.0111 - val_loss: 0.0041 - val_mean_absolute_error: 0.0472\n",
            "Epoch 44/50\n",
            "13/13 [==============================] - 0s 5ms/step - loss: 2.6607e-04 - mean_absolute_error: 0.0111 - val_loss: 0.0041 - val_mean_absolute_error: 0.0472\n",
            "Epoch 45/50\n",
            "13/13 [==============================] - 0s 5ms/step - loss: 2.6401e-04 - mean_absolute_error: 0.0111 - val_loss: 0.0041 - val_mean_absolute_error: 0.0473\n",
            "Epoch 46/50\n",
            "13/13 [==============================] - 0s 5ms/step - loss: 2.6992e-04 - mean_absolute_error: 0.0111 - val_loss: 0.0041 - val_mean_absolute_error: 0.0472\n",
            "Epoch 47/50\n",
            "13/13 [==============================] - 0s 5ms/step - loss: 2.7221e-04 - mean_absolute_error: 0.0110 - val_loss: 0.0041 - val_mean_absolute_error: 0.0471\n",
            "Epoch 48/50\n",
            "13/13 [==============================] - 0s 5ms/step - loss: 2.6492e-04 - mean_absolute_error: 0.0110 - val_loss: 0.0041 - val_mean_absolute_error: 0.0471\n",
            "Epoch 49/50\n",
            "13/13 [==============================] - 0s 5ms/step - loss: 2.7774e-04 - mean_absolute_error: 0.0110 - val_loss: 0.0040 - val_mean_absolute_error: 0.0470\n",
            "Epoch 50/50\n",
            "13/13 [==============================] - 0s 5ms/step - loss: 2.6706e-04 - mean_absolute_error: 0.0111 - val_loss: 0.0041 - val_mean_absolute_error: 0.0471\n"
          ],
          "name": "stdout"
        },
        {
          "output_type": "execute_result",
          "data": {
            "text/plain": [
              "<tensorflow.python.keras.callbacks.History at 0x7f99c00ee5f8>"
            ]
          },
          "metadata": {
            "tags": []
          },
          "execution_count": 3
        }
      ]
    },
    {
      "cell_type": "code",
      "metadata": {
        "id": "BeEMgpKMINiH",
        "colab_type": "code",
        "colab": {
          "base_uri": "https://localhost:8080/",
          "height": 428
        },
        "outputId": "425c87bc-acd0-417c-d6e6-92f7f6d28e28"
      },
      "source": [
        "import seaborn as sb\n",
        "import matplotlib.pyplot as plt\n",
        "\n",
        "\n",
        "\n",
        "df = pd.DataFrame.from_dict(history.history)\n",
        "df\n",
        "df_0 = df[['mean_absolute_error', 'val_mean_absolute_error']]\n",
        "df_1 = df[['loss', 'val_loss']]\n",
        "plt.figure(figsize=(15,7))\n",
        "sb.lineplot(data=df_0);"
      ],
      "execution_count": 6,
      "outputs": [
        {
          "output_type": "display_data",
          "data": {
            "image/png": "[encoded data removed]",
            "text/plain": [
              "<Figure size 1080x504 with 1 Axes>"
            ]
          },
          "metadata": {
            "tags": [],
            "needs_background": "light"
          }
        }
      ]
    },
    {
      "cell_type": "code",
      "metadata": {
        "id": "K4pvnR-QRuu2",
        "colab_type": "code",
        "colab": {
          "base_uri": "https://localhost:8080/",
          "height": 428
        },
        "outputId": "43bdb44e-ba18-44b6-b88f-058b384ef6f0"
      },
      "source": [
        "plt.figure(figsize=(15,7))\n",
        "sb.lineplot(data=df_1);"
      ],
      "execution_count": 7,
      "outputs": [
        {
          "output_type": "display_data",
          "data": {
            "image/png": "[encoded data removed]",
            "text/plain": [
              "<Figure size 1080x504 with 1 Axes>"
            ]
          },
          "metadata": {
            "tags": [],
            "needs_background": "light"
          }
        }
      ]
    },
    {
      "cell_type": "code",
      "metadata": {
        "id": "Uubj0h05IvwQ",
        "colab_type": "code",
        "colab": {
          "base_uri": "https://localhost:8080/",
          "height": 34
        },
        "outputId": "ea2aab66-3aab-4d10-8aa9-361977224ef0"
      },
      "source": [
        "from sklearn.linear_model import LinearRegression\n",
        "import numpy as np\n",
        "\n",
        "lin_model = LinearRegression()\n",
        "lin_model.fit(x_train, y_train)\n",
        "\n",
        "y_pred = lin_model.predict(x_test)\n",
        "\n",
        "res = metrics.mean_absolute_error(y_test, y_pred).numpy()\n",
        "print(\"Mean Absolute Error for Linear Regression Model - \", np.mean(res))\n",
        "\n"
      ],
      "execution_count": 8,
      "outputs": [
        {
          "output_type": "stream",
          "text": [
            "Mean Absolute Error for Linear Regression Model -  0.044662067866462256\n"
          ],
          "name": "stdout"
        }
      ]
    },
    {
      "cell_type": "markdown",
      "metadata": {
        "colab_type": "text",
        "id": "SfcFnOONyuNm"
      },
      "source": [
        "## Use the Keras Library to build an image recognition network using the Fashion-MNIST dataset (also comes with keras)\n",
        "\n",
        "- Load and preprocess the image data similar to how we preprocessed the MNIST data in class.\n",
        "- Make sure to one-hot encode your category labels\n",
        "- The number of nodes in your output layer should equal the number of classes you want to predict for Fashion-MNIST.\n",
        "- Try different hyperparameters. What is the highest accuracy that you are able to achieve.\n",
        "- Use the history object that is returned from model.fit to make graphs of the model's loss or train/validation accuracies by epoch. \n",
        "- Remember that neural networks fall prey to randomness so you may need to run your model multiple times (or use Cross Validation) in order to tell if a change to a hyperparameter is truly producing better results."
      ]
    },
    {
      "cell_type": "code",
      "metadata": {
        "id": "7fNxlSiPIuxQ",
        "colab_type": "code",
        "colab": {
          "base_uri": "https://localhost:8080/",
          "height": 34
        },
        "outputId": "c6c77a90-83f1-4d92-bbaf-3824889e60d2"
      },
      "source": [
        "from tensorflow.keras.datasets import fashion_mnist\n",
        "from tensorflow.keras.utils import to_categorical\n",
        "\n",
        "(x_train, y_train), (x_test, y_test) = fashion_mnist.load_data()\n",
        "\n",
        "x_train.shape, y_train.shape, x_test.shape, y_test.shape"
      ],
      "execution_count": 9,
      "outputs": [
        {
          "output_type": "execute_result",
          "data": {
            "text/plain": [
              "((60000, 28, 28), (60000,), (10000, 28, 28), (10000,))"
            ]
          },
          "metadata": {
            "tags": []
          },
          "execution_count": 9
        }
      ]
    },
    {
      "cell_type": "code",
      "metadata": {
        "id": "xBYIqqgKM8mc",
        "colab_type": "code",
        "colab": {}
      },
      "source": [
        "y_train = to_categorical(y_train)\n",
        "y_test = to_categorical(y_test)"
      ],
      "execution_count": 0,
      "outputs": []
    },
    {
      "cell_type": "code",
      "metadata": {
        "id": "r7GkhWKdMyty",
        "colab_type": "code",
        "colab": {
          "base_uri": "https://localhost:8080/",
          "height": 419
        },
        "outputId": "186db84f-1df4-45b7-a475-eb2d20ed12aa"
      },
      "source": [
        "pd.DataFrame(y_train)"
      ],
      "execution_count": 11,
      "outputs": [
        {
          "output_type": "execute_result",
          "data": {
            "text/html": [
              "<div>\n",
              "<style scoped>\n",
              "    .dataframe tbody tr th:only-of-type {\n",
              "        vertical-align: middle;\n",
              "    }\n",
              "\n",
              "    .dataframe tbody tr th {\n",
              "        vertical-align: top;\n",
              "    }\n",
              "\n",
              "    .dataframe thead th {\n",
              "        text-align: right;\n",
              "    }\n",
              "</style>\n",
              "<table border=\"1\" class=\"dataframe\">\n",
              "  <thead>\n",
              "    <tr style=\"text-align: right;\">\n",
              "      <th></th>\n",
              "      <th>0</th>\n",
              "      <th>1</th>\n",
              "      <th>2</th>\n",
              "      <th>3</th>\n",
              "      <th>4</th>\n",
              "      <th>5</th>\n",
              "      <th>6</th>\n",
              "      <th>7</th>\n",
              "      <th>8</th>\n",
              "      <th>9</th>\n",
              "    </tr>\n",
              "  </thead>\n",
              "  <tbody>\n",
              "    <tr>\n",
              "      <th>0</th>\n",
              "      <td>0.0</td>\n",
              "      <td>0.0</td>\n",
              "      <td>0.0</td>\n",
              "      <td>0.0</td>\n",
              "      <td>0.0</td>\n",
              "      <td>0.0</td>\n",
              "      <td>0.0</td>\n",
              "      <td>0.0</td>\n",
              "      <td>0.0</td>\n",
              "      <td>1.0</td>\n",
              "    </tr>\n",
              "    <tr>\n",
              "      <th>1</th>\n",
              "      <td>1.0</td>\n",
              "      <td>0.0</td>\n",
              "      <td>0.0</td>\n",
              "      <td>0.0</td>\n",
              "      <td>0.0</td>\n",
              "      <td>0.0</td>\n",
              "      <td>0.0</td>\n",
              "      <td>0.0</td>\n",
              "      <td>0.0</td>\n",
              "      <td>0.0</td>\n",
              "    </tr>\n",
              "    <tr>\n",
              "      <th>2</th>\n",
              "      <td>1.0</td>\n",
              "      <td>0.0</td>\n",
              "      <td>0.0</td>\n",
              "      <td>0.0</td>\n",
              "      <td>0.0</td>\n",
              "      <td>0.0</td>\n",
              "      <td>0.0</td>\n",
              "      <td>0.0</td>\n",
              "      <td>0.0</td>\n",
              "      <td>0.0</td>\n",
              "    </tr>\n",
              "    <tr>\n",
              "      <th>3</th>\n",
              "      <td>0.0</td>\n",
              "      <td>0.0</td>\n",
              "      <td>0.0</td>\n",
              "      <td>1.0</td>\n",
              "      <td>0.0</td>\n",
              "      <td>0.0</td>\n",
              "      <td>0.0</td>\n",
              "      <td>0.0</td>\n",
              "      <td>0.0</td>\n",
              "      <td>0.0</td>\n",
              "    </tr>\n",
              "    <tr>\n",
              "      <th>4</th>\n",
              "      <td>1.0</td>\n",
              "      <td>0.0</td>\n",
              "      <td>0.0</td>\n",
              "      <td>0.0</td>\n",
              "      <td>0.0</td>\n",
              "      <td>0.0</td>\n",
              "      <td>0.0</td>\n",
              "      <td>0.0</td>\n",
              "      <td>0.0</td>\n",
              "      <td>0.0</td>\n",
              "    </tr>\n",
              "    <tr>\n",
              "      <th>...</th>\n",
              "      <td>...</td>\n",
              "      <td>...</td>\n",
              "      <td>...</td>\n",
              "      <td>...</td>\n",
              "      <td>...</td>\n",
              "      <td>...</td>\n",
              "      <td>...</td>\n",
              "      <td>...</td>\n",
              "      <td>...</td>\n",
              "      <td>...</td>\n",
              "    </tr>\n",
              "    <tr>\n",
              "      <th>59995</th>\n",
              "      <td>0.0</td>\n",
              "      <td>0.0</td>\n",
              "      <td>0.0</td>\n",
              "      <td>0.0</td>\n",
              "      <td>0.0</td>\n",
              "      <td>1.0</td>\n",
              "      <td>0.0</td>\n",
              "      <td>0.0</td>\n",
              "      <td>0.0</td>\n",
              "      <td>0.0</td>\n",
              "    </tr>\n",
              "    <tr>\n",
              "      <th>59996</th>\n",
              "      <td>0.0</td>\n",
              "      <td>1.0</td>\n",
              "      <td>0.0</td>\n",
              "      <td>0.0</td>\n",
              "      <td>0.0</td>\n",
              "      <td>0.0</td>\n",
              "      <td>0.0</td>\n",
              "      <td>0.0</td>\n",
              "      <td>0.0</td>\n",
              "      <td>0.0</td>\n",
              "    </tr>\n",
              "    <tr>\n",
              "      <th>59997</th>\n",
              "      <td>0.0</td>\n",
              "      <td>0.0</td>\n",
              "      <td>0.0</td>\n",
              "      <td>1.0</td>\n",
              "      <td>0.0</td>\n",
              "      <td>0.0</td>\n",
              "      <td>0.0</td>\n",
              "      <td>0.0</td>\n",
              "      <td>0.0</td>\n",
              "      <td>0.0</td>\n",
              "    </tr>\n",
              "    <tr>\n",
              "      <th>59998</th>\n",
              "      <td>1.0</td>\n",
              "      <td>0.0</td>\n",
              "      <td>0.0</td>\n",
              "      <td>0.0</td>\n",
              "      <td>0.0</td>\n",
              "      <td>0.0</td>\n",
              "      <td>0.0</td>\n",
              "      <td>0.0</td>\n",
              "      <td>0.0</td>\n",
              "      <td>0.0</td>\n",
              "    </tr>\n",
              "    <tr>\n",
              "      <th>59999</th>\n",
              "      <td>0.0</td>\n",
              "      <td>0.0</td>\n",
              "      <td>0.0</td>\n",
              "      <td>0.0</td>\n",
              "      <td>0.0</td>\n",
              "      <td>1.0</td>\n",
              "      <td>0.0</td>\n",
              "      <td>0.0</td>\n",
              "      <td>0.0</td>\n",
              "      <td>0.0</td>\n",
              "    </tr>\n",
              "  </tbody>\n",
              "</table>\n",
              "<p>60000 rows × 10 columns</p>\n",
              "</div>"
            ],
            "text/plain": [
              "         0    1    2    3    4    5    6    7    8    9\n",
              "0      0.0  0.0  0.0  0.0  0.0  0.0  0.0  0.0  0.0  1.0\n",
              "1      1.0  0.0  0.0  0.0  0.0  0.0  0.0  0.0  0.0  0.0\n",
              "2      1.0  0.0  0.0  0.0  0.0  0.0  0.0  0.0  0.0  0.0\n",
              "3      0.0  0.0  0.0  1.0  0.0  0.0  0.0  0.0  0.0  0.0\n",
              "4      1.0  0.0  0.0  0.0  0.0  0.0  0.0  0.0  0.0  0.0\n",
              "...    ...  ...  ...  ...  ...  ...  ...  ...  ...  ...\n",
              "59995  0.0  0.0  0.0  0.0  0.0  1.0  0.0  0.0  0.0  0.0\n",
              "59996  0.0  1.0  0.0  0.0  0.0  0.0  0.0  0.0  0.0  0.0\n",
              "59997  0.0  0.0  0.0  1.0  0.0  0.0  0.0  0.0  0.0  0.0\n",
              "59998  1.0  0.0  0.0  0.0  0.0  0.0  0.0  0.0  0.0  0.0\n",
              "59999  0.0  0.0  0.0  0.0  0.0  1.0  0.0  0.0  0.0  0.0\n",
              "\n",
              "[60000 rows x 10 columns]"
            ]
          },
          "metadata": {
            "tags": []
          },
          "execution_count": 11
        }
      ]
    },
    {
      "cell_type": "code",
      "metadata": {
        "colab_type": "code",
        "id": "szi6-IpuzaH1",
        "colab": {
          "base_uri": "https://localhost:8080/",
          "height": 1000
        },
        "outputId": "4bf8f428-75c5-4432-ea3d-9ba244f2fc25"
      },
      "source": [
        "model0 = Sequential([\n",
        "    Flatten(input_shape=(28,28)),\n",
        "    Dense(28, activation=\"relu\"),\n",
        "    Dense(28,activation=\"relu\"),\n",
        "    Dense(28,activation=\"relu\"),\n",
        "    Dense(10,activation=\"softmax\")\n",
        "])\n",
        "model0.compile(loss='categorical_crossentropy', optimizer='adam', metrics=['accuracy'])\n",
        "history0 = model0.fit(x=x_train, \n",
        "        y=y_train, \n",
        "        epochs=50, \n",
        "        validation_data=(x_test, y_test), \n",
        "        callbacks=[tensorboard_callback])"
      ],
      "execution_count": 12,
      "outputs": [
        {
          "output_type": "stream",
          "text": [
            "Epoch 1/50\n",
            "1875/1875 [==============================] - 6s 3ms/step - loss: 1.1947 - accuracy: 0.6488 - val_loss: 0.6934 - val_accuracy: 0.7480\n",
            "Epoch 2/50\n",
            "1875/1875 [==============================] - 6s 3ms/step - loss: 0.6614 - accuracy: 0.7510 - val_loss: 0.7338 - val_accuracy: 0.7509\n",
            "Epoch 3/50\n",
            "1875/1875 [==============================] - 6s 3ms/step - loss: 0.6011 - accuracy: 0.7839 - val_loss: 0.6328 - val_accuracy: 0.7839\n",
            "Epoch 4/50\n",
            "1875/1875 [==============================] - 6s 3ms/step - loss: 0.5548 - accuracy: 0.8010 - val_loss: 0.5875 - val_accuracy: 0.7939\n",
            "Epoch 5/50\n",
            "1875/1875 [==============================] - 6s 3ms/step - loss: 0.5298 - accuracy: 0.8070 - val_loss: 0.6209 - val_accuracy: 0.7841\n",
            "Epoch 6/50\n",
            "1875/1875 [==============================] - 6s 3ms/step - loss: 0.5210 - accuracy: 0.8103 - val_loss: 0.5959 - val_accuracy: 0.7935\n",
            "Epoch 7/50\n",
            "1875/1875 [==============================] - 6s 3ms/step - loss: 0.5090 - accuracy: 0.8156 - val_loss: 0.5373 - val_accuracy: 0.8066\n",
            "Epoch 8/50\n",
            "1875/1875 [==============================] - 6s 3ms/step - loss: 0.5004 - accuracy: 0.8183 - val_loss: 0.5530 - val_accuracy: 0.8037\n",
            "Epoch 9/50\n",
            "1875/1875 [==============================] - 6s 3ms/step - loss: 0.4964 - accuracy: 0.8214 - val_loss: 0.5459 - val_accuracy: 0.8105\n",
            "Epoch 10/50\n",
            "1875/1875 [==============================] - 6s 3ms/step - loss: 0.4821 - accuracy: 0.8224 - val_loss: 0.5562 - val_accuracy: 0.7816\n",
            "Epoch 11/50\n",
            "1875/1875 [==============================] - 6s 3ms/step - loss: 0.4846 - accuracy: 0.8200 - val_loss: 0.5231 - val_accuracy: 0.8127\n",
            "Epoch 12/50\n",
            "1875/1875 [==============================] - 6s 3ms/step - loss: 0.4792 - accuracy: 0.8257 - val_loss: 0.5179 - val_accuracy: 0.8140\n",
            "Epoch 13/50\n",
            "1875/1875 [==============================] - 6s 3ms/step - loss: 0.4741 - accuracy: 0.8246 - val_loss: 0.5226 - val_accuracy: 0.8122\n",
            "Epoch 14/50\n",
            "1875/1875 [==============================] - 6s 3ms/step - loss: 0.4690 - accuracy: 0.8285 - val_loss: 0.5061 - val_accuracy: 0.8178\n",
            "Epoch 15/50\n",
            "1875/1875 [==============================] - 6s 3ms/step - loss: 0.4736 - accuracy: 0.8215 - val_loss: 0.5184 - val_accuracy: 0.8056\n",
            "Epoch 16/50\n",
            "1875/1875 [==============================] - 6s 3ms/step - loss: 0.4648 - accuracy: 0.8272 - val_loss: 0.5416 - val_accuracy: 0.8005\n",
            "Epoch 17/50\n",
            "1875/1875 [==============================] - 6s 3ms/step - loss: 0.4595 - accuracy: 0.8278 - val_loss: 0.5144 - val_accuracy: 0.8176\n",
            "Epoch 18/50\n",
            "1875/1875 [==============================] - 6s 3ms/step - loss: 0.4548 - accuracy: 0.8309 - val_loss: 0.5206 - val_accuracy: 0.8172\n",
            "Epoch 19/50\n",
            "1875/1875 [==============================] - 6s 3ms/step - loss: 0.4547 - accuracy: 0.8297 - val_loss: 0.5210 - val_accuracy: 0.8069\n",
            "Epoch 20/50\n",
            "1875/1875 [==============================] - 6s 3ms/step - loss: 0.4524 - accuracy: 0.8329 - val_loss: 0.5340 - val_accuracy: 0.8108\n",
            "Epoch 21/50\n",
            "1875/1875 [==============================] - 6s 3ms/step - loss: 0.4536 - accuracy: 0.8300 - val_loss: 0.5114 - val_accuracy: 0.8194\n",
            "Epoch 22/50\n",
            "1875/1875 [==============================] - 6s 3ms/step - loss: 0.4613 - accuracy: 0.8248 - val_loss: 0.5264 - val_accuracy: 0.8170\n",
            "Epoch 23/50\n",
            "1875/1875 [==============================] - 6s 3ms/step - loss: 0.4475 - accuracy: 0.8333 - val_loss: 0.5370 - val_accuracy: 0.7844\n",
            "Epoch 24/50\n",
            "1875/1875 [==============================] - 6s 3ms/step - loss: 0.4461 - accuracy: 0.8330 - val_loss: 0.5267 - val_accuracy: 0.8024\n",
            "Epoch 25/50\n",
            "1875/1875 [==============================] - 6s 3ms/step - loss: 0.4486 - accuracy: 0.8316 - val_loss: 0.4997 - val_accuracy: 0.8189\n",
            "Epoch 26/50\n",
            "1875/1875 [==============================] - 6s 3ms/step - loss: 0.4408 - accuracy: 0.8360 - val_loss: 0.5043 - val_accuracy: 0.8280\n",
            "Epoch 27/50\n",
            "1875/1875 [==============================] - 6s 3ms/step - loss: 0.4209 - accuracy: 0.8501 - val_loss: 0.5105 - val_accuracy: 0.8257\n",
            "Epoch 28/50\n",
            "1875/1875 [==============================] - 6s 3ms/step - loss: 0.4209 - accuracy: 0.8498 - val_loss: 0.4981 - val_accuracy: 0.8322\n",
            "Epoch 29/50\n",
            "1875/1875 [==============================] - 6s 3ms/step - loss: 0.4189 - accuracy: 0.8518 - val_loss: 0.5321 - val_accuracy: 0.8192\n",
            "Epoch 30/50\n",
            "1875/1875 [==============================] - 6s 3ms/step - loss: 0.4199 - accuracy: 0.8496 - val_loss: 0.4697 - val_accuracy: 0.8408\n",
            "Epoch 31/50\n",
            "1875/1875 [==============================] - 6s 3ms/step - loss: 0.4069 - accuracy: 0.8554 - val_loss: 0.4953 - val_accuracy: 0.8335\n",
            "Epoch 32/50\n",
            "1875/1875 [==============================] - 6s 3ms/step - loss: 0.4060 - accuracy: 0.8554 - val_loss: 0.4665 - val_accuracy: 0.8370\n",
            "Epoch 33/50\n",
            "1875/1875 [==============================] - 6s 3ms/step - loss: 0.4012 - accuracy: 0.8575 - val_loss: 0.4856 - val_accuracy: 0.8352\n",
            "Epoch 34/50\n",
            "1875/1875 [==============================] - 6s 3ms/step - loss: 0.4042 - accuracy: 0.8565 - val_loss: 0.5026 - val_accuracy: 0.8294\n",
            "Epoch 35/50\n",
            "1875/1875 [==============================] - 6s 3ms/step - loss: 0.4064 - accuracy: 0.8553 - val_loss: 0.4655 - val_accuracy: 0.8404\n",
            "Epoch 36/50\n",
            "1875/1875 [==============================] - 6s 3ms/step - loss: 0.3986 - accuracy: 0.8581 - val_loss: 0.4728 - val_accuracy: 0.8425\n",
            "Epoch 37/50\n",
            "1875/1875 [==============================] - 6s 3ms/step - loss: 0.4078 - accuracy: 0.8565 - val_loss: 0.5066 - val_accuracy: 0.8279\n",
            "Epoch 38/50\n",
            "1875/1875 [==============================] - 6s 3ms/step - loss: 0.4021 - accuracy: 0.8572 - val_loss: 0.4760 - val_accuracy: 0.8412\n",
            "Epoch 39/50\n",
            "1875/1875 [==============================] - 6s 3ms/step - loss: 0.3898 - accuracy: 0.8605 - val_loss: 0.4846 - val_accuracy: 0.8428\n",
            "Epoch 40/50\n",
            "1875/1875 [==============================] - 6s 3ms/step - loss: 0.3909 - accuracy: 0.8619 - val_loss: 0.4947 - val_accuracy: 0.8312\n",
            "Epoch 41/50\n",
            "1875/1875 [==============================] - 6s 3ms/step - loss: 0.3941 - accuracy: 0.8590 - val_loss: 0.4799 - val_accuracy: 0.8407\n",
            "Epoch 42/50\n",
            "1875/1875 [==============================] - 6s 3ms/step - loss: 0.3899 - accuracy: 0.8620 - val_loss: 0.4983 - val_accuracy: 0.8397\n",
            "Epoch 43/50\n",
            "1875/1875 [==============================] - 6s 3ms/step - loss: 0.3937 - accuracy: 0.8597 - val_loss: 0.5026 - val_accuracy: 0.8349\n",
            "Epoch 44/50\n",
            "1875/1875 [==============================] - 6s 3ms/step - loss: 0.3917 - accuracy: 0.8594 - val_loss: 0.5096 - val_accuracy: 0.8319\n",
            "Epoch 45/50\n",
            "1875/1875 [==============================] - 6s 3ms/step - loss: 0.3874 - accuracy: 0.8611 - val_loss: 0.4903 - val_accuracy: 0.8398\n",
            "Epoch 46/50\n",
            "1875/1875 [==============================] - 6s 3ms/step - loss: 0.3860 - accuracy: 0.8619 - val_loss: 0.5124 - val_accuracy: 0.8379\n",
            "Epoch 47/50\n",
            "1875/1875 [==============================] - 6s 3ms/step - loss: 0.3871 - accuracy: 0.8602 - val_loss: 0.5028 - val_accuracy: 0.8356\n",
            "Epoch 48/50\n",
            "1875/1875 [==============================] - 6s 3ms/step - loss: 0.3843 - accuracy: 0.8632 - val_loss: 0.4905 - val_accuracy: 0.8393\n",
            "Epoch 49/50\n",
            "1875/1875 [==============================] - 6s 3ms/step - loss: 0.3924 - accuracy: 0.8590 - val_loss: 0.5748 - val_accuracy: 0.8236\n",
            "Epoch 50/50\n",
            "1875/1875 [==============================] - 6s 3ms/step - loss: 0.3905 - accuracy: 0.8621 - val_loss: 0.4743 - val_accuracy: 0.8429\n"
          ],
          "name": "stdout"
        }
      ]
    },
    {
      "cell_type": "code",
      "metadata": {
        "id": "VrHM1KVGNhTJ",
        "colab_type": "code",
        "colab": {
          "base_uri": "https://localhost:8080/",
          "height": 428
        },
        "outputId": "611cb477-8bbf-45f1-8f3c-b5976b3b946e"
      },
      "source": [
        "# history0.history\n",
        "import seaborn as sb\n",
        "import matplotlib.pyplot as plt\n",
        "\n",
        "\n",
        "\n",
        "df0 = pd.DataFrame.from_dict(history0.history)\n",
        "df0_0 = df0[['accuracy', 'val_accuracy']]\n",
        "df0_1 = df0[['loss', 'val_loss']]\n",
        "plt.figure(figsize=(15,7))\n",
        "sb.lineplot(data=df0_0);"
      ],
      "execution_count": 13,
      "outputs": [
        {
          "output_type": "display_data",
          "data": {
            "image/png": "[encoded data removed]",
            "text/plain": [
              "<Figure size 1080x504 with 1 Axes>"
            ]
          },
          "metadata": {
            "tags": [],
            "needs_background": "light"
          }
        }
      ]
    },
    {
      "cell_type": "code",
      "metadata": {
        "id": "j5kD6MT0RLeZ",
        "colab_type": "code",
        "colab": {
          "base_uri": "https://localhost:8080/",
          "height": 428
        },
        "outputId": "d906fcf9-9bce-47de-8748-0f3acc7c9857"
      },
      "source": [
        "plt.figure(figsize=(15,7))\n",
        "sb.lineplot(data=df0_1);"
      ],
      "execution_count": 14,
      "outputs": [
        {
          "output_type": "display_data",
          "data": {
            "image/png": "[encoded data removed]",
            "text/plain": [
              "<Figure size 1080x504 with 1 Axes>"
            ]
          },
          "metadata": {
            "tags": [],
            "needs_background": "light"
          }
        }
      ]
    },
    {
      "cell_type": "markdown",
      "metadata": {
        "colab_type": "text",
        "id": "zv_3xNMjzdLI"
      },
      "source": [
        "## Stretch Goals:\n",
        "\n",
        "- Use Hyperparameter Tuning to make the accuracy of your models as high as possible. (error as low as possible)\n",
        "- Use Cross Validation techniques to get more consistent results with your model.\n",
        "- Use GridSearchCV to try different combinations of hyperparameters. \n",
        "- Start looking into other types of Keras layers for CNNs and RNNs maybe try and build a CNN model for fashion-MNIST to see how the results compare."
      ]
    }
  ]
}